{
 "cells": [
  {
   "cell_type": "code",
   "execution_count": 1,
   "id": "c029ca16",
   "metadata": {},
   "outputs": [],
   "source": [
    "# install beauitfulsoup - its' a library used to pass html code to find the elements inside it\n",
    "\n",
    "\n",
    "#!pip install bs4"
   ]
  },
  {
   "cell_type": "code",
   "execution_count": 2,
   "id": "d50bdc2d",
   "metadata": {},
   "outputs": [],
   "source": [
    "# requests send from local pc to the website\n",
    "\n",
    "\n",
    "#!pip install requests"
   ]
  },
  {
   "cell_type": "code",
   "execution_count": 3,
   "id": "370818f7",
   "metadata": {},
   "outputs": [],
   "source": [
    "from bs4 import BeautifulSoup\n",
    "import pandas as pd\n",
    "import requests"
   ]
  },
  {
   "cell_type": "code",
   "execution_count": 4,
   "id": "773b6e56",
   "metadata": {},
   "outputs": [],
   "source": [
    "# Import the necessary libraries\n",
    "from bs4 import BeautifulSoup\n",
    "import requests\n",
    "\n",
    "url = \"https://www.amazon.com/s?k=laptops&crid=4TRJMYQROWKF&sprefix=laptops%2Caps%2C99&ref=nb_sb_noss_1\"\n",
    "\n",
    "# Headers for request\n",
    "\n",
    "headers = ({\n",
    "    'User-Agent': 'Mozilla/5.0 (Windows NT 10.0; Win64; x64) AppleWebKit/537.36 (KHTML, like Gecko) Chrome/91.0.4472.124 Safari/537.36',\n",
    "    'Accept-Language': 'en-US, en;q=0.5',\n",
    "    'Referer': 'https://www.cvs.com/'\n",
    "})\n",
    "\n",
    "# Make a request to the webpage\n",
    "webpage = requests.get(url, headers = headers)\n",
    "\n",
    "# type(webpage.content)\n",
    "\n",
    "# Create a BeautifulSoup object\n",
    "html_main_page = BeautifulSoup(webpage.content, \"html.parser\")\n",
    "\n",
    "# Find all the links with the specified attributes\n",
    "links_from_main_page = html_main_page.find_all(\"a\", attrs={'class': 'a-link-normal s-underline-text s-underline-link-text s-link-style a-text-normal'})\n",
    "\n",
    "# Create an empty list to store the links\n",
    "laptop_links = []\n",
    "\n",
    "# Iterate through the links and retrieve the href attribute\n",
    "for link in links_from_main_page:\n",
    "    href = link.get('href')\n",
    "    laptop_link = \"https://www.amazon.com\" + href\n",
    "    laptop_links.append(laptop_link)\n",
    "\n",
    "# Print all the links\n",
    "# for link in laptop_links:\n",
    "    #print(link)\n"
   ]
  },
  {
   "cell_type": "code",
   "execution_count": 5,
   "id": "0d82b6ff",
   "metadata": {},
   "outputs": [
    {
     "data": {
      "text/plain": [
       "(36, 1)"
      ]
     },
     "execution_count": 5,
     "metadata": {},
     "output_type": "execute_result"
    }
   ],
   "source": [
    "pd.DataFrame(laptop_links).shape"
   ]
  },
  {
   "cell_type": "code",
   "execution_count": 6,
   "id": "25626796",
   "metadata": {},
   "outputs": [
    {
     "name": "stdout",
     "output_type": "stream",
     "text": [
      "Error occurred while processing link: https://www.amazon.comhttps://aax-us-iad.amazon.com/x/c/RA9TEYXgo-ALhskIDv3pW5YAAAGIYRRETQEAAAH2AQBvbm9fdHhuX2JpZDcgICBvbm9fdHhuX2ltcDEgICDh2EP5/https://www.amazon.com/HP-Display-i3-1215U-Graphics-15-dy5599nr/dp/B0BVD8LZQL/ref=sxin_18_sbv_search_btf?content-id=amzn1.sym.b000e0a0-9e93-480f-bf78-a83c8136dfcb%3Aamzn1.sym.b000e0a0-9e93-480f-bf78-a83c8136dfcb&crid=4TRJMYQROWKF&cv_ct_cx=laptops&keywords=laptops&pd_rd_i=B0BVD8LZQL&pd_rd_r=165beb64-635b-478d-9c4e-c2e27affbff7&pd_rd_w=RfP4j&pd_rd_wg=4CeLI&pf_rd_p=b000e0a0-9e93-480f-bf78-a83c8136dfcb&pf_rd_r=03WHFY1479SGC7EQ2KRG&qid=1685255898&sbo=RZvfv%2F%2FHxDF%2BO5021pAnSA%3D%3D&sprefix=laptops%2Caps%2C99&sr=1-1-5190daf0-67e3-427c-bea6-c72c1df98776\n",
      "Error message: HTTPSConnectionPool(host='www.amazon.comhttps', port=443): Max retries exceeded with url: //aax-us-iad.amazon.com/x/c/RA9TEYXgo-ALhskIDv3pW5YAAAGIYRRETQEAAAH2AQBvbm9fdHhuX2JpZDcgICBvbm9fdHhuX2ltcDEgICDh2EP5/https://www.amazon.com/HP-Display-i3-1215U-Graphics-15-dy5599nr/dp/B0BVD8LZQL/ref=sxin_18_sbv_search_btf?content-id=amzn1.sym.b000e0a0-9e93-480f-bf78-a83c8136dfcb%3Aamzn1.sym.b000e0a0-9e93-480f-bf78-a83c8136dfcb&crid=4TRJMYQROWKF&cv_ct_cx=laptops&keywords=laptops&pd_rd_i=B0BVD8LZQL&pd_rd_r=165beb64-635b-478d-9c4e-c2e27affbff7&pd_rd_w=RfP4j&pd_rd_wg=4CeLI&pf_rd_p=b000e0a0-9e93-480f-bf78-a83c8136dfcb&pf_rd_r=03WHFY1479SGC7EQ2KRG&qid=1685255898&sbo=RZvfv%2F%2FHxDF%2BO5021pAnSA%3D%3D&sprefix=laptops%2Caps%2C99&sr=1-1-5190daf0-67e3-427c-bea6-c72c1df98776 (Caused by NewConnectionError('<urllib3.connection.HTTPSConnection object at 0x00000187EE9D0790>: Failed to establish a new connection: [Errno 11001] getaddrinfo failed'))\n",
      "Error occurred while processing link: https://www.amazon.com/gp/slredirect/picassoRedirect.html/ref=pa_sp_btf_aps_sr_pg1_1?ie=UTF8&adId=A0288859CHO35QDPMWBT&qualifier=1685255898&id=6102778468553571&widgetName=sp_btf&url=%2FPersonalized-Desktop-Pictures-Computers-Laptops%2Fdp%2FB0C4Q3MG7R%2Fref%3Dsr_1_22_sspa%3Fcrid%3D4TRJMYQROWKF%26keywords%3Dlaptops%26qid%3D1685255898%26sprefix%3Dlaptops%252Caps%252C99%26sr%3D8-22-spons%26psc%3D1\n",
      "Error message: 'NoneType' object has no attribute 'find_all'\n",
      "Error occurred while processing link: https://www.amazon.comhttps://aax-us-iad.amazon.com/x/c/RB-kTor9Axufax8Z57iS3WIAAAGIYRREQwEAAAH2AQBvbm9fdHhuX2JpZDEgICBvbm9fdHhuX2ltcDEgICANVf5Z/https://www.amazon.com/Fusion5-14-1-Full-Windows-Laptop/dp/B09TBL91P7/ref=sxbs_sbv_search_btf?content-id=amzn1.sym.e37f01e8-35e2-4c0b-a3c9-ac96c2181076%3Aamzn1.sym.e37f01e8-35e2-4c0b-a3c9-ac96c2181076&crid=4TRJMYQROWKF&cv_ct_cx=laptops&keywords=laptops&pd_rd_i=B09TBL91P7&pd_rd_r=8526e047-db7c-4035-aba1-65f54ca3e56a&pd_rd_w=6bAly&pd_rd_wg=2Cuzj&pf_rd_p=e37f01e8-35e2-4c0b-a3c9-ac96c2181076&pf_rd_r=03WHFY1479SGC7EQ2KRG&qid=1685255898&sbo=RZvfv%2F%2FHxDF%2BO5021pAnSA%3D%3D&sprefix=laptops%2Caps%2C99&sr=1-1-a61ee601-6e56-4862-a8a2-1d3da5a5406f\n",
      "Error message: HTTPSConnectionPool(host='www.amazon.comhttps', port=443): Max retries exceeded with url: //aax-us-iad.amazon.com/x/c/RB-kTor9Axufax8Z57iS3WIAAAGIYRREQwEAAAH2AQBvbm9fdHhuX2JpZDEgICBvbm9fdHhuX2ltcDEgICANVf5Z/https://www.amazon.com/Fusion5-14-1-Full-Windows-Laptop/dp/B09TBL91P7/ref=sxbs_sbv_search_btf?content-id=amzn1.sym.e37f01e8-35e2-4c0b-a3c9-ac96c2181076%3Aamzn1.sym.e37f01e8-35e2-4c0b-a3c9-ac96c2181076&crid=4TRJMYQROWKF&cv_ct_cx=laptops&keywords=laptops&pd_rd_i=B09TBL91P7&pd_rd_r=8526e047-db7c-4035-aba1-65f54ca3e56a&pd_rd_w=6bAly&pd_rd_wg=2Cuzj&pf_rd_p=e37f01e8-35e2-4c0b-a3c9-ac96c2181076&pf_rd_r=03WHFY1479SGC7EQ2KRG&qid=1685255898&sbo=RZvfv%2F%2FHxDF%2BO5021pAnSA%3D%3D&sprefix=laptops%2Caps%2C99&sr=1-1-a61ee601-6e56-4862-a8a2-1d3da5a5406f (Caused by NewConnectionError('<urllib3.connection.HTTPSConnection object at 0x00000187F006C070>: Failed to establish a new connection: [Errno 11001] getaddrinfo failed'))\n"
     ]
    }
   ],
   "source": [
    "import re\n",
    "import pandas as pd\n",
    "from bs4 import BeautifulSoup\n",
    "import requests\n",
    "\n",
    "product_details = []  # Initialize the list\n",
    "\n",
    "for laptop_link in laptop_links:\n",
    "    try:\n",
    "        # Make a request to the laptop page\n",
    "        laptop_page = requests.get(laptop_link, headers=headers)\n",
    "\n",
    "        # Check if the URL has been redirected\n",
    "        if 'picassoRedirect.html' in laptop_page.url:\n",
    "            # Extract the redirected URL from the \"url\" parameter\n",
    "            redirected_url = re.search(r'url=(.*?)&', laptop_page.url).group(1)\n",
    "            \n",
    "            # Make a new request to the redirected URL\n",
    "            laptop_page = requests.get(redirected_url, headers=headers)\n",
    "\n",
    "        # Create a BeautifulSoup object\n",
    "        laptop_page_html = BeautifulSoup(laptop_page.content, \"html.parser\")\n",
    "\n",
    "        # Find the product title\n",
    "        product_title = laptop_page_html.find(\"span\", attrs={\"id\": 'productTitle'}).text.strip()\n",
    "\n",
    "        # Find the product price\n",
    "        product_price = laptop_page_html.find(\"span\", attrs={'class': 'a-offscreen'}).text.strip()\n",
    "\n",
    "        # Find the product rating\n",
    "        product_rating = laptop_page_html.find(\"span\", attrs={'class': 'a-icon-alt'}).text.strip()\n",
    "\n",
    "        # Find additional details\n",
    "        html = laptop_page_html.find(\"div\", attrs={'id': \"poExpander\"})\n",
    "        key_elements = html.find_all('span', class_='a-size-base a-text-bold')\n",
    "        value_elements = html.find_all('span', class_='a-size-base po-break-word')\n",
    "        additional_details = {}\n",
    "\n",
    "        # Iterate over the key-value elements and extract their values\n",
    "        for key_element, value_element in zip(key_elements, value_elements):\n",
    "            key = key_element.text.strip().lower().replace(' ', '_')\n",
    "            value = value_element.text.strip()\n",
    "            additional_details[key] = value\n",
    "\n",
    "        # Append the product details to the list\n",
    "        product_details.append({\n",
    "            'title': product_title,\n",
    "            'price': product_price,\n",
    "            'rating': product_rating,\n",
    "            **additional_details\n",
    "        })\n",
    "    except Exception as e:\n",
    "        print(f\"Error occurred while processing link: {laptop_link}\")\n",
    "        print(f\"Error message: {str(e)}\")\n",
    "        continue\n",
    "\n",
    "# Create a dataframe from the product details list\n",
    "df = pd.DataFrame(product_details)\n",
    "\n",
    "# Print the dataframe\n",
    "#print(df)\n"
   ]
  },
  {
   "cell_type": "code",
   "execution_count": 7,
   "id": "ba27e49d",
   "metadata": {},
   "outputs": [],
   "source": [
    "df.to_csv('laptop_details.csv', index=False)"
   ]
  },
  {
   "cell_type": "code",
   "execution_count": null,
   "id": "f7e5f61c",
   "metadata": {},
   "outputs": [],
   "source": []
  }
 ],
 "metadata": {
  "kernelspec": {
   "display_name": "Python 3 (ipykernel)",
   "language": "python",
   "name": "python3"
  },
  "language_info": {
   "codemirror_mode": {
    "name": "ipython",
    "version": 3
   },
   "file_extension": ".py",
   "mimetype": "text/x-python",
   "name": "python",
   "nbconvert_exporter": "python",
   "pygments_lexer": "ipython3",
   "version": "3.9.12"
  }
 },
 "nbformat": 4,
 "nbformat_minor": 5
}
